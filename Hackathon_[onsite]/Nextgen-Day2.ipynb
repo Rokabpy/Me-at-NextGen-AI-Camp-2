{
  "nbformat": 4,
  "nbformat_minor": 0,
  "metadata": {
    "colab": {
      "provenance": []
    },
    "kernelspec": {
      "name": "python3",
      "display_name": "Python 3"
    },
    "language_info": {
      "name": "python"
    }
  },
  "cells": [
    {
      "cell_type": "code",
      "execution_count": 230,
      "metadata": {
        "id": "D19DlTJri_MK"
      },
      "outputs": [],
      "source": [
        "import numpy as np\n",
        "import pandas as pd\n",
        "import matplotlib.pyplot as plt\n",
        "import seaborn as sns\n",
        "from tqdm import tqdm\n",
        "\n",
        "import torch\n",
        "import torch.nn as nn\n",
        "import torch.optim as optim\n",
        "import torch.functional as F\n",
        "from torch.utils.data import Dataset, DataLoader\n",
        "from torchvision import transforms as T\n",
        "from PIL import Image"
      ]
    },
    {
      "cell_type": "code",
      "source": [
        "# from google.colab import drive\n",
        "# drive.mount('/content/drive')\n",
        "import os"
      ],
      "metadata": {
        "id": "3TVJgJanj0hP"
      },
      "execution_count": 231,
      "outputs": []
    },
    {
      "cell_type": "code",
      "source": [
        "link = '/content/drive/MyDrive/Ativities/NextGenAI Camp/Onsite/Hackathon/dataset-nextgen-Day2'\n",
        "train = pd.read_csv(os.path.join(link, 'train.csv'))\n",
        "final = pd.read_csv(os.path.join(link, 'test.csv'))\n",
        "example = pd.read_csv(os.path.join(link, 'sample_submission_engagement_estimation.csv'))"
      ],
      "metadata": {
        "id": "JVOieqzZkAA8"
      },
      "execution_count": 232,
      "outputs": []
    },
    {
      "cell_type": "code",
      "source": [
        "train = train.drop(columns=['Hashtags', 'Id'])\n",
        "final = final.drop(columns=['Hashtags', 'Id'])"
      ],
      "metadata": {
        "id": "Abi8x_1vH1Sy"
      },
      "execution_count": 233,
      "outputs": []
    },
    {
      "cell_type": "code",
      "source": [
        "def name(df):\n",
        "  df = df.rename(columns = {\n",
        "      'FoodName' : 'Class',\n",
        "      'CaptionLength' : 'Caption',\n",
        "      'ImageQuality' : 'MOS',\n",
        "      'Segment' : 'Seg',\n",
        "      'TimePost' : 'Time',\n",
        "  })\n",
        "  return df\n",
        "\n",
        "def season(month):\n",
        "  if 2 <= month <= 5:\n",
        "    return 'summer'\n",
        "  elif 6 <= month <= 10:\n",
        "    return 'rainy'\n",
        "  elif 11 <= month <= 12 or 1 == month:\n",
        "    return 'winter'\n",
        "\n",
        "def prepare(df):\n",
        "  df = name(df)\n",
        "  df = name(df)\n",
        "  df['Time'] = pd.to_datetime(df.Time)\n",
        "  df['Month'] = df['Time'].dt.month\n",
        "  df['Season'] = df['Month'].apply(season)\n",
        "  df = df.drop(columns=['Month', 'Time'])\n",
        "  return df"
      ],
      "metadata": {
        "collapsed": true,
        "id": "gLUI719qTDV5"
      },
      "execution_count": 234,
      "outputs": []
    },
    {
      "cell_type": "code",
      "source": [
        "train = prepare(train)\n",
        "final = prepare(final)"
      ],
      "metadata": {
        "id": "5jvUnXKlYG3-"
      },
      "execution_count": 235,
      "outputs": []
    }
  ]
}
